{
 "cells": [
  {
   "cell_type": "code",
   "execution_count": 1,
   "id": "2275e3b1",
   "metadata": {},
   "outputs": [],
   "source": [
    "import pandas as pd\n",
    "import matplotlib.pyplot as plt\n",
    "import seaborn as sns\n",
    "import numpy as np\n",
    "import warnings\n",
    "\n",
    "from sklearn.metrics import confusion_matrix\n",
    "from sklearn.metrics import classification_report\n",
    "from sklearn import tree\n",
    "from sklearn.ensemble import RandomForestClassifier\n",
    "from sklearn.model_selection import train_test_split\n",
    "from sklearn import metrics\n",
    "from sklearn.metrics import accuracy_score\n",
    "from sklearn.exceptions import ConvergenceWarning\n",
    "from sklearn.neural_network import MLPClassifier\n",
    "from sklearn.model_selection import GridSearchCV\n"
   ]
  },
  {
   "cell_type": "code",
   "execution_count": 2,
   "id": "f06fa198",
   "metadata": {},
   "outputs": [
    {
     "name": "stdout",
     "output_type": "stream",
     "text": [
      "<class 'pandas.core.frame.DataFrame'>\n",
      "RangeIndex: 2111 entries, 0 to 2110\n",
      "Data columns (total 17 columns):\n",
      " #   Column                          Non-Null Count  Dtype  \n",
      "---  ------                          --------------  -----  \n",
      " 0   Gender                          2111 non-null   object \n",
      " 1   Age                             2111 non-null   float64\n",
      " 2   Height                          2111 non-null   float64\n",
      " 3   Weight                          2111 non-null   float64\n",
      " 4   family_history_with_overweight  2111 non-null   object \n",
      " 5   FAVC                            2111 non-null   object \n",
      " 6   FCVC                            2111 non-null   float64\n",
      " 7   NCP                             2111 non-null   float64\n",
      " 8   CAEC                            2111 non-null   object \n",
      " 9   SMOKE                           2111 non-null   object \n",
      " 10  CH2O                            2111 non-null   float64\n",
      " 11  SCC                             2111 non-null   object \n",
      " 12  FAF                             2111 non-null   float64\n",
      " 13  TUE                             2111 non-null   float64\n",
      " 14  CALC                            2111 non-null   object \n",
      " 15  MTRANS                          2111 non-null   object \n",
      " 16  NObeyesdad                      2111 non-null   object \n",
      "dtypes: float64(8), object(9)\n",
      "memory usage: 280.5+ KB\n",
      "None\n"
     ]
    },
    {
     "data": {
      "text/html": [
       "<div>\n",
       "<style scoped>\n",
       "    .dataframe tbody tr th:only-of-type {\n",
       "        vertical-align: middle;\n",
       "    }\n",
       "\n",
       "    .dataframe tbody tr th {\n",
       "        vertical-align: top;\n",
       "    }\n",
       "\n",
       "    .dataframe thead th {\n",
       "        text-align: right;\n",
       "    }\n",
       "</style>\n",
       "<table border=\"1\" class=\"dataframe\">\n",
       "  <thead>\n",
       "    <tr style=\"text-align: right;\">\n",
       "      <th></th>\n",
       "      <th>Age</th>\n",
       "      <th>Height</th>\n",
       "      <th>Weight</th>\n",
       "      <th>FCVC</th>\n",
       "      <th>NCP</th>\n",
       "      <th>CH2O</th>\n",
       "      <th>FAF</th>\n",
       "      <th>TUE</th>\n",
       "    </tr>\n",
       "  </thead>\n",
       "  <tbody>\n",
       "    <tr>\n",
       "      <th>count</th>\n",
       "      <td>2111.000000</td>\n",
       "      <td>2111.000000</td>\n",
       "      <td>2111.000000</td>\n",
       "      <td>2111.000000</td>\n",
       "      <td>2111.000000</td>\n",
       "      <td>2111.000000</td>\n",
       "      <td>2111.000000</td>\n",
       "      <td>2111.000000</td>\n",
       "    </tr>\n",
       "    <tr>\n",
       "      <th>mean</th>\n",
       "      <td>24.312600</td>\n",
       "      <td>1.701677</td>\n",
       "      <td>86.586058</td>\n",
       "      <td>2.419043</td>\n",
       "      <td>2.685628</td>\n",
       "      <td>2.008011</td>\n",
       "      <td>1.010298</td>\n",
       "      <td>0.657866</td>\n",
       "    </tr>\n",
       "    <tr>\n",
       "      <th>std</th>\n",
       "      <td>6.345968</td>\n",
       "      <td>0.093305</td>\n",
       "      <td>26.191172</td>\n",
       "      <td>0.533927</td>\n",
       "      <td>0.778039</td>\n",
       "      <td>0.612953</td>\n",
       "      <td>0.850592</td>\n",
       "      <td>0.608927</td>\n",
       "    </tr>\n",
       "    <tr>\n",
       "      <th>min</th>\n",
       "      <td>14.000000</td>\n",
       "      <td>1.450000</td>\n",
       "      <td>39.000000</td>\n",
       "      <td>1.000000</td>\n",
       "      <td>1.000000</td>\n",
       "      <td>1.000000</td>\n",
       "      <td>0.000000</td>\n",
       "      <td>0.000000</td>\n",
       "    </tr>\n",
       "    <tr>\n",
       "      <th>25%</th>\n",
       "      <td>19.947192</td>\n",
       "      <td>1.630000</td>\n",
       "      <td>65.473343</td>\n",
       "      <td>2.000000</td>\n",
       "      <td>2.658738</td>\n",
       "      <td>1.584812</td>\n",
       "      <td>0.124505</td>\n",
       "      <td>0.000000</td>\n",
       "    </tr>\n",
       "    <tr>\n",
       "      <th>50%</th>\n",
       "      <td>22.777890</td>\n",
       "      <td>1.700499</td>\n",
       "      <td>83.000000</td>\n",
       "      <td>2.385502</td>\n",
       "      <td>3.000000</td>\n",
       "      <td>2.000000</td>\n",
       "      <td>1.000000</td>\n",
       "      <td>0.625350</td>\n",
       "    </tr>\n",
       "    <tr>\n",
       "      <th>75%</th>\n",
       "      <td>26.000000</td>\n",
       "      <td>1.768464</td>\n",
       "      <td>107.430682</td>\n",
       "      <td>3.000000</td>\n",
       "      <td>3.000000</td>\n",
       "      <td>2.477420</td>\n",
       "      <td>1.666678</td>\n",
       "      <td>1.000000</td>\n",
       "    </tr>\n",
       "    <tr>\n",
       "      <th>max</th>\n",
       "      <td>61.000000</td>\n",
       "      <td>1.980000</td>\n",
       "      <td>173.000000</td>\n",
       "      <td>3.000000</td>\n",
       "      <td>4.000000</td>\n",
       "      <td>3.000000</td>\n",
       "      <td>3.000000</td>\n",
       "      <td>2.000000</td>\n",
       "    </tr>\n",
       "  </tbody>\n",
       "</table>\n",
       "</div>"
      ],
      "text/plain": [
       "               Age       Height       Weight         FCVC          NCP  \\\n",
       "count  2111.000000  2111.000000  2111.000000  2111.000000  2111.000000   \n",
       "mean     24.312600     1.701677    86.586058     2.419043     2.685628   \n",
       "std       6.345968     0.093305    26.191172     0.533927     0.778039   \n",
       "min      14.000000     1.450000    39.000000     1.000000     1.000000   \n",
       "25%      19.947192     1.630000    65.473343     2.000000     2.658738   \n",
       "50%      22.777890     1.700499    83.000000     2.385502     3.000000   \n",
       "75%      26.000000     1.768464   107.430682     3.000000     3.000000   \n",
       "max      61.000000     1.980000   173.000000     3.000000     4.000000   \n",
       "\n",
       "              CH2O          FAF          TUE  \n",
       "count  2111.000000  2111.000000  2111.000000  \n",
       "mean      2.008011     1.010298     0.657866  \n",
       "std       0.612953     0.850592     0.608927  \n",
       "min       1.000000     0.000000     0.000000  \n",
       "25%       1.584812     0.124505     0.000000  \n",
       "50%       2.000000     1.000000     0.625350  \n",
       "75%       2.477420     1.666678     1.000000  \n",
       "max       3.000000     3.000000     2.000000  "
      ]
     },
     "execution_count": 2,
     "metadata": {},
     "output_type": "execute_result"
    }
   ],
   "source": [
    "path='ObesityDataSet_raw_and_data_sinthetic.csv'\n",
    "obesidad = pd.read_csv(path)\n",
    "print(obesidad.info())\n",
    "\n",
    "obesidad.describe()\n",
    " "
   ]
  },
  {
   "cell_type": "code",
   "execution_count": 3,
   "id": "d13304fa",
   "metadata": {},
   "outputs": [
    {
     "data": {
      "text/html": [
       "<div>\n",
       "<style scoped>\n",
       "    .dataframe tbody tr th:only-of-type {\n",
       "        vertical-align: middle;\n",
       "    }\n",
       "\n",
       "    .dataframe tbody tr th {\n",
       "        vertical-align: top;\n",
       "    }\n",
       "\n",
       "    .dataframe thead th {\n",
       "        text-align: right;\n",
       "    }\n",
       "</style>\n",
       "<table border=\"1\" class=\"dataframe\">\n",
       "  <thead>\n",
       "    <tr style=\"text-align: right;\">\n",
       "      <th></th>\n",
       "      <th></th>\n",
       "      <th>Cantidad</th>\n",
       "      <th>Porcentaje(%)</th>\n",
       "    </tr>\n",
       "    <tr>\n",
       "      <th>Gender</th>\n",
       "      <th>family_history_with_overweight</th>\n",
       "      <th></th>\n",
       "      <th></th>\n",
       "    </tr>\n",
       "  </thead>\n",
       "  <tbody>\n",
       "    <tr>\n",
       "      <th rowspan=\"2\" valign=\"top\">Female</th>\n",
       "      <th>no</th>\n",
       "      <td>232</td>\n",
       "      <td>22.243528</td>\n",
       "    </tr>\n",
       "    <tr>\n",
       "      <th>yes</th>\n",
       "      <td>811</td>\n",
       "      <td>77.756472</td>\n",
       "    </tr>\n",
       "    <tr>\n",
       "      <th rowspan=\"2\" valign=\"top\">Male</th>\n",
       "      <th>no</th>\n",
       "      <td>153</td>\n",
       "      <td>14.325843</td>\n",
       "    </tr>\n",
       "    <tr>\n",
       "      <th>yes</th>\n",
       "      <td>915</td>\n",
       "      <td>85.674157</td>\n",
       "    </tr>\n",
       "  </tbody>\n",
       "</table>\n",
       "</div>"
      ],
      "text/plain": [
       "                                       Cantidad  Porcentaje(%)\n",
       "Gender family_history_with_overweight                         \n",
       "Female no                                   232      22.243528\n",
       "       yes                                  811      77.756472\n",
       "Male   no                                   153      14.325843\n",
       "       yes                                  915      85.674157"
      ]
     },
     "execution_count": 3,
     "metadata": {},
     "output_type": "execute_result"
    }
   ],
   "source": [
    "ob = obesidad.groupby([\"Gender\", \"family_history_with_overweight\"]).agg( Cantidad=('Gender', 'count'))\n",
    "ob['Porcentaje(%)'] = (ob['Cantidad'] / ob['Cantidad'].groupby(\"Gender\").sum()) * 100\n",
    "ob"
   ]
  },
  {
   "cell_type": "code",
   "execution_count": 4,
   "id": "d2bcc57b",
   "metadata": {},
   "outputs": [
    {
     "data": {
      "image/png": "[encoded data removed]",
      "text/plain": [
       "<Figure size 720x576 with 1 Axes>"
      ]
     },
     "metadata": {
      "needs_background": "light"
     },
     "output_type": "display_data"
    }
   ],
   "source": [
    "#Histograma del atributo clase\n",
    "ax=plt.subplots(1,1,figsize=(10,8))\n",
    "sns.countplot(x='Gender',data=obesidad)\n",
    "plt.title(\"Gender count\")\n",
    "plt.show()"
   ]
  },
  {
   "cell_type": "code",
   "execution_count": 5,
   "id": "dee95ef5",
   "metadata": {},
   "outputs": [
    {
     "data": {
      "image/png": "[encoded data removed]",
      "text/plain": [
       "<Figure size 720x576 with 1 Axes>"
      ]
     },
     "metadata": {
      "needs_background": "light"
     },
     "output_type": "display_data"
    }
   ],
   "source": [
    "ax=plt.subplots(1,1,figsize=(10,8))\n",
    "sns.countplot(x='family_history_with_overweight',data=obesidad)\n",
    "plt.title(\"family_history_with_overweight count\")\n",
    "plt.show()"
   ]
  },
  {
   "cell_type": "code",
   "execution_count": 6,
   "id": "81bcfbdf",
   "metadata": {},
   "outputs": [
    {
     "data": {
      "image/png": "[encoded data removed]",
      "text/plain": [
       "<Figure size 720x576 with 1 Axes>"
      ]
     },
     "metadata": {
      "needs_background": "light"
     },
     "output_type": "display_data"
    }
   ],
   "source": [
    "ax=plt.subplots(1,1,figsize=(10,8))\n",
    "sns.countplot(x='FAVC',data=obesidad)\n",
    "plt.title(\"FAVC\")\n",
    "plt.show()"
   ]
  },
  {
   "cell_type": "code",
   "execution_count": 7,
   "id": "f0832db5",
   "metadata": {},
   "outputs": [
    {
     "data": {
      "image/png": "[encoded data removed]",
      "text/plain": [
       "<Figure size 720x576 with 1 Axes>"
      ]
     },
     "metadata": {
      "needs_background": "light"
     },
     "output_type": "display_data"
    }
   ],
   "source": [
    "ax=plt.subplots(1,1,figsize=(10,8))\n",
    "sns.countplot(x='CAEC',data=obesidad)\n",
    "plt.title(\"CAEC\")\n",
    "plt.show()"
   ]
  },
  {
   "cell_type": "code",
   "execution_count": 8,
   "id": "b0d45a14",
   "metadata": {},
   "outputs": [
    {
     "data": {
      "image/png": "[encoded data removed]",
      "text/plain": [
       "<Figure size 720x576 with 1 Axes>"
      ]
     },
     "metadata": {
      "needs_background": "light"
     },
     "output_type": "display_data"
    }
   ],
   "source": [
    "ax=plt.subplots(1,1,figsize=(10,8))\n",
    "sns.countplot(x='SMOKE',data=obesidad)\n",
    "plt.title(\"SMOKE\")\n",
    "plt.show()"
   ]
  },
  {
   "cell_type": "code",
   "execution_count": 9,
   "id": "f821782a",
   "metadata": {},
   "outputs": [
    {
     "data": {
      "image/png": "[encoded data removed]",
      "text/plain": [
       "<Figure size 720x576 with 1 Axes>"
      ]
     },
     "metadata": {
      "needs_background": "light"
     },
     "output_type": "display_data"
    }
   ],
   "source": [
    "ax=plt.subplots(1,1,figsize=(10,8))\n",
    "sns.countplot(x='SCC',data=obesidad)\n",
    "plt.title(\"SCC\")\n",
    "plt.show()"
   ]
  },
  {
   "cell_type": "code",
   "execution_count": 10,
   "id": "0e156a6d",
   "metadata": {},
   "outputs": [
    {
     "data": {
      "image/png": "[encoded data removed]",
      "text/plain": [
       "<Figure size 720x576 with 1 Axes>"
      ]
     },
     "metadata": {
      "needs_background": "light"
     },
     "output_type": "display_data"
    }
   ],
   "source": [
    "ax=plt.subplots(1,1,figsize=(10,8))\n",
    "sns.countplot(x='CALC',data=obesidad)\n",
    "plt.title(\"CALC\")\n",
    "plt.show()"
   ]
  },
  {
   "cell_type": "code",
   "execution_count": 11,
   "id": "e00e3ba7",
   "metadata": {},
   "outputs": [
    {
     "data": {
      "image/png": "[encoded data removed]",
      "text/plain": [
       "<Figure size 720x576 with 1 Axes>"
      ]
     },
     "metadata": {
      "needs_background": "light"
     },
     "output_type": "display_data"
    }
   ],
   "source": [
    "ax=plt.subplots(1,1,figsize=(10,8))\n",
    "sns.countplot(x='MTRANS',data=obesidad)\n",
    "plt.title(\"MTRANS\")\n",
    "plt.show()"
   ]
  },
  {
   "cell_type": "code",
   "execution_count": 12,
   "id": "02606764",
   "metadata": {},
   "outputs": [
    {
     "data": {
      "image/png": "[encoded data removed]",
      "text/plain": [
       "<Figure size 1080x576 with 1 Axes>"
      ]
     },
     "metadata": {
      "needs_background": "light"
     },
     "output_type": "display_data"
    }
   ],
   "source": [
    "ax=plt.subplots(1,1,figsize=(15,8))\n",
    "sns.countplot(x='NObeyesdad',data=obesidad)\n",
    "plt.title(\"NObeyesdad\")\n",
    "plt.show()"
   ]
  },
  {
   "cell_type": "code",
   "execution_count": 13,
   "id": "bc40052f",
   "metadata": {},
   "outputs": [
    {
     "data": {
      "image/png": "[encoded data removed]",
      "text/plain": [
       "<Figure size 1440x1440 with 9 Axes>"
      ]
     },
     "metadata": {
      "needs_background": "light"
     },
     "output_type": "display_data"
    }
   ],
   "source": [
    "obesidad.hist(edgecolor='black', linewidth=1.0)\n",
    "fig=plt.gcf()\n",
    "fig.set_size_inches(20,20)\n",
    "plt.show()"
   ]
  },
  {
   "cell_type": "code",
   "execution_count": 14,
   "id": "6878f181",
   "metadata": {},
   "outputs": [
    {
     "name": "stdout",
     "output_type": "stream",
     "text": [
      "             Age    Height    Weight      FCVC       NCP      CH2O       FAF  \\\n",
      "Age     1.000000 -0.025958  0.202560  0.016291 -0.043944 -0.045304 -0.144938   \n",
      "Height -0.025958  1.000000  0.463136 -0.038121  0.243672  0.213376  0.294709   \n",
      "Weight  0.202560  0.463136  1.000000  0.216125  0.107469  0.200575 -0.051436   \n",
      "FCVC    0.016291 -0.038121  0.216125  1.000000  0.042216  0.068461  0.019939   \n",
      "NCP    -0.043944  0.243672  0.107469  0.042216  1.000000  0.057088  0.129504   \n",
      "CH2O   -0.045304  0.213376  0.200575  0.068461  0.057088  1.000000  0.167236   \n",
      "FAF    -0.144938  0.294709 -0.051436  0.019939  0.129504  0.167236  1.000000   \n",
      "TUE    -0.296931  0.051912 -0.071561 -0.101135  0.036326  0.011965  0.058562   \n",
      "\n",
      "             TUE  \n",
      "Age    -0.296931  \n",
      "Height  0.051912  \n",
      "Weight -0.071561  \n",
      "FCVC   -0.101135  \n",
      "NCP     0.036326  \n",
      "CH2O    0.011965  \n",
      "FAF     0.058562  \n",
      "TUE     1.000000  \n"
     ]
    },
    {
     "data": {
      "image/png": "[encoded data removed]",
      "text/plain": [
       "<Figure size 720x576 with 2 Axes>"
      ]
     },
     "metadata": {
      "needs_background": "light"
     },
     "output_type": "display_data"
    }
   ],
   "source": [
    "X = obesidad.iloc[:, 0:17]\n",
    "f, ax = plt.subplots(figsize=(10, 8))\n",
    "corr = X.corr()\n",
    "print(corr)\n",
    "sns.heatmap(corr, mask=np.zeros_like(corr, dtype=bool), \n",
    "          cmap=sns.diverging_palette(220, 10, as_cmap=True),square=True, ax=ax, linewidths=.5)\n",
    "plt.show() "
   ]
  },
  {
   "cell_type": "code",
   "execution_count": 15,
   "id": "f46c3072",
   "metadata": {
    "scrolled": true
   },
   "outputs": [
    {
     "data": {
      "image/png": "[encoded data removed]",
      "text/plain": [
       "<Figure size 432x288 with 1 Axes>"
      ]
     },
     "metadata": {
      "needs_background": "light"
     },
     "output_type": "display_data"
    }
   ],
   "source": [
    "box_data = obesidad.Age #variable representing the data array\n",
    "box_target = obesidad.Age #variable representing the labels array\n",
    "sns.boxplot(data = box_data,width=0.5,fliersize=5)\n",
    "plt.show()"
   ]
  },
  {
   "cell_type": "code",
   "execution_count": 16,
   "id": "fcf24d75",
   "metadata": {},
   "outputs": [
    {
     "data": {
      "image/png": "[encoded data removed]",
      "text/plain": [
       "<Figure size 432x288 with 1 Axes>"
      ]
     },
     "metadata": {
      "needs_background": "light"
     },
     "output_type": "display_data"
    }
   ],
   "source": [
    "box_data = obesidad.Height #variable representing the data array\n",
    "box_target = obesidad.Height #variable representing the labels array\n",
    "sns.boxplot(data = box_data,width=0.5,fliersize=5)\n",
    "plt.show()"
   ]
  },
  {
   "cell_type": "code",
   "execution_count": 17,
   "id": "c738402f",
   "metadata": {},
   "outputs": [
    {
     "data": {
      "image/png": "[encoded data removed]",
      "text/plain": [
       "<Figure size 432x288 with 1 Axes>"
      ]
     },
     "metadata": {
      "needs_background": "light"
     },
     "output_type": "display_data"
    }
   ],
   "source": [
    "box_data = obesidad.Weight #variable representing the data array\n",
    "box_target = obesidad.Weight #variable representing the labels array\n",
    "sns.boxplot(data = box_data,width=0.5,fliersize=5)\n",
    "plt.show()"
   ]
  },
  {
   "cell_type": "code",
   "execution_count": 18,
   "id": "b4a115d2",
   "metadata": {},
   "outputs": [
    {
     "data": {
      "image/png": "[encoded data removed]",
      "text/plain": [
       "<Figure size 432x288 with 1 Axes>"
      ]
     },
     "metadata": {
      "needs_background": "light"
     },
     "output_type": "display_data"
    }
   ],
   "source": [
    "box_data = obesidad.FCVC #variable representing the data array\n",
    "box_target = obesidad.FCVC #variable representing the labels array\n",
    "sns.boxplot(data = box_data,width=0.5,fliersize=5)\n",
    "plt.show()"
   ]
  },
  {
   "cell_type": "code",
   "execution_count": 19,
   "id": "440c0b38",
   "metadata": {},
   "outputs": [
    {
     "data": {
      "image/png": "[encoded data removed]",
      "text/plain": [
       "<Figure size 432x288 with 1 Axes>"
      ]
     },
     "metadata": {
      "needs_background": "light"
     },
     "output_type": "display_data"
    }
   ],
   "source": [
    "box_data = obesidad.NCP #variable representing the data array\n",
    "box_target = obesidad.NCP #variable representing the labels array\n",
    "sns.boxplot(data = box_data,width=0.5,fliersize=5)\n",
    "plt.show()"
   ]
  },
  {
   "cell_type": "code",
   "execution_count": 20,
   "id": "ea109ff5",
   "metadata": {},
   "outputs": [
    {
     "data": {
      "image/png": "[encoded data removed]",
      "text/plain": [
       "<Figure size 432x288 with 1 Axes>"
      ]
     },
     "metadata": {
      "needs_background": "light"
     },
     "output_type": "display_data"
    }
   ],
   "source": [
    "box_data = obesidad.CH2O #variable representing the data array\n",
    "box_target = obesidad.CH2O #variable representing the labels array\n",
    "sns.boxplot(data = box_data,width=0.5,fliersize=5)\n",
    "plt.show()"
   ]
  },
  {
   "cell_type": "code",
   "execution_count": 21,
   "id": "a2343ab7",
   "metadata": {},
   "outputs": [
    {
     "data": {
      "image/png": "[encoded data removed]",
      "text/plain": [
       "<Figure size 432x288 with 1 Axes>"
      ]
     },
     "metadata": {
      "needs_background": "light"
     },
     "output_type": "display_data"
    }
   ],
   "source": [
    "box_data = obesidad.FAF #variable representing the data array\n",
    "box_target = obesidad.FAF #variable representing the labels array\n",
    "sns.boxplot(data = box_data,width=0.5,fliersize=5)\n",
    "plt.show()"
   ]
  },
  {
   "cell_type": "code",
   "execution_count": 22,
   "id": "98ecfb5d",
   "metadata": {},
   "outputs": [
    {
     "data": {
      "image/png": "[encoded data removed]",
      "text/plain": [
       "<Figure size 432x288 with 1 Axes>"
      ]
     },
     "metadata": {
      "needs_background": "light"
     },
     "output_type": "display_data"
    }
   ],
   "source": [
    "box_data = obesidad.TUE #variable representing the data array\n",
    "box_target = obesidad.TUE #variable representing the labels array\n",
    "sns.boxplot(data = box_data,width=0.5,fliersize=5)\n",
    "plt.show()"
   ]
  },
  {
   "cell_type": "markdown",
   "id": "0776871c",
   "metadata": {},
   "source": [
    "Transformacion de los datos"
   ]
  },
  {
   "cell_type": "code",
   "execution_count": 23,
   "id": "0d92b5d4",
   "metadata": {},
   "outputs": [
    {
     "data": {
      "text/html": [
       "<div>\n",
       "<style scoped>\n",
       "    .dataframe tbody tr th:only-of-type {\n",
       "        vertical-align: middle;\n",
       "    }\n",
       "\n",
       "    .dataframe tbody tr th {\n",
       "        vertical-align: top;\n",
       "    }\n",
       "\n",
       "    .dataframe thead th {\n",
       "        text-align: right;\n",
       "    }\n",
       "</style>\n",
       "<table border=\"1\" class=\"dataframe\">\n",
       "  <thead>\n",
       "    <tr style=\"text-align: right;\">\n",
       "      <th></th>\n",
       "      <th>Gender</th>\n",
       "      <th>Age</th>\n",
       "      <th>Height</th>\n",
       "      <th>Weight</th>\n",
       "      <th>family_history_with_overweight</th>\n",
       "      <th>FAVC</th>\n",
       "      <th>FCVC</th>\n",
       "      <th>NCP</th>\n",
       "      <th>CAEC</th>\n",
       "      <th>SMOKE</th>\n",
       "      <th>CH2O</th>\n",
       "      <th>SCC</th>\n",
       "      <th>FAF</th>\n",
       "      <th>TUE</th>\n",
       "      <th>CALC</th>\n",
       "      <th>MTRANS</th>\n",
       "      <th>NObeyesdad</th>\n",
       "    </tr>\n",
       "  </thead>\n",
       "  <tbody>\n",
       "    <tr>\n",
       "      <th>0</th>\n",
       "      <td>1</td>\n",
       "      <td>21.0</td>\n",
       "      <td>1.62</td>\n",
       "      <td>64.0</td>\n",
       "      <td>1</td>\n",
       "      <td>0</td>\n",
       "      <td>2.0</td>\n",
       "      <td>3.0</td>\n",
       "      <td>1</td>\n",
       "      <td>0</td>\n",
       "      <td>2.0</td>\n",
       "      <td>0</td>\n",
       "      <td>0.0</td>\n",
       "      <td>1.0</td>\n",
       "      <td>0</td>\n",
       "      <td>0</td>\n",
       "      <td>1</td>\n",
       "    </tr>\n",
       "    <tr>\n",
       "      <th>1</th>\n",
       "      <td>1</td>\n",
       "      <td>21.0</td>\n",
       "      <td>1.52</td>\n",
       "      <td>56.0</td>\n",
       "      <td>1</td>\n",
       "      <td>0</td>\n",
       "      <td>3.0</td>\n",
       "      <td>3.0</td>\n",
       "      <td>1</td>\n",
       "      <td>1</td>\n",
       "      <td>3.0</td>\n",
       "      <td>1</td>\n",
       "      <td>3.0</td>\n",
       "      <td>0.0</td>\n",
       "      <td>1</td>\n",
       "      <td>0</td>\n",
       "      <td>1</td>\n",
       "    </tr>\n",
       "    <tr>\n",
       "      <th>2</th>\n",
       "      <td>0</td>\n",
       "      <td>23.0</td>\n",
       "      <td>1.80</td>\n",
       "      <td>77.0</td>\n",
       "      <td>1</td>\n",
       "      <td>0</td>\n",
       "      <td>2.0</td>\n",
       "      <td>3.0</td>\n",
       "      <td>1</td>\n",
       "      <td>0</td>\n",
       "      <td>2.0</td>\n",
       "      <td>0</td>\n",
       "      <td>2.0</td>\n",
       "      <td>1.0</td>\n",
       "      <td>2</td>\n",
       "      <td>0</td>\n",
       "      <td>1</td>\n",
       "    </tr>\n",
       "    <tr>\n",
       "      <th>3</th>\n",
       "      <td>0</td>\n",
       "      <td>27.0</td>\n",
       "      <td>1.80</td>\n",
       "      <td>87.0</td>\n",
       "      <td>0</td>\n",
       "      <td>0</td>\n",
       "      <td>3.0</td>\n",
       "      <td>3.0</td>\n",
       "      <td>1</td>\n",
       "      <td>0</td>\n",
       "      <td>2.0</td>\n",
       "      <td>0</td>\n",
       "      <td>2.0</td>\n",
       "      <td>0.0</td>\n",
       "      <td>2</td>\n",
       "      <td>1</td>\n",
       "      <td>2</td>\n",
       "    </tr>\n",
       "    <tr>\n",
       "      <th>4</th>\n",
       "      <td>0</td>\n",
       "      <td>22.0</td>\n",
       "      <td>1.78</td>\n",
       "      <td>89.8</td>\n",
       "      <td>0</td>\n",
       "      <td>0</td>\n",
       "      <td>2.0</td>\n",
       "      <td>1.0</td>\n",
       "      <td>1</td>\n",
       "      <td>0</td>\n",
       "      <td>2.0</td>\n",
       "      <td>0</td>\n",
       "      <td>0.0</td>\n",
       "      <td>0.0</td>\n",
       "      <td>1</td>\n",
       "      <td>0</td>\n",
       "      <td>3</td>\n",
       "    </tr>\n",
       "  </tbody>\n",
       "</table>\n",
       "</div>"
      ],
      "text/plain": [
       "   Gender   Age  Height  Weight  family_history_with_overweight  FAVC  FCVC  \\\n",
       "0       1  21.0    1.62    64.0                               1     0   2.0   \n",
       "1       1  21.0    1.52    56.0                               1     0   3.0   \n",
       "2       0  23.0    1.80    77.0                               1     0   2.0   \n",
       "3       0  27.0    1.80    87.0                               0     0   3.0   \n",
       "4       0  22.0    1.78    89.8                               0     0   2.0   \n",
       "\n",
       "   NCP  CAEC  SMOKE  CH2O  SCC  FAF  TUE  CALC  MTRANS  NObeyesdad  \n",
       "0  3.0     1      0   2.0    0  0.0  1.0     0       0           1  \n",
       "1  3.0     1      1   3.0    1  3.0  0.0     1       0           1  \n",
       "2  3.0     1      0   2.0    0  2.0  1.0     2       0           1  \n",
       "3  3.0     1      0   2.0    0  2.0  0.0     2       1           2  \n",
       "4  1.0     1      0   2.0    0  0.0  0.0     1       0           3  "
      ]
     },
     "execution_count": 23,
     "metadata": {},
     "output_type": "execute_result"
    }
   ],
   "source": [
    "dGender = {'Male' : 0, 'Female' : 1}\n",
    "dYESandNO = {'no' : 0, 'yes' : 1}\n",
    "dFrequency = {'no' : 0, 'Sometimes' : 1, 'Frequently': 2, 'Always': 3}\n",
    "dMT = {'Public_Transportation' : 0, 'Walking' : 1, 'Automobile': 2, 'Motorbike': 3, 'Bike': 4}\n",
    "dLABELS = {'Insufficient_Weight':0, 'Normal_Weight':1, 'Overweight_Level_I':2, 'Overweight_Level_II':3,\n",
    "        'Obesity_Type_I':4, 'Obesity_Type_II':5, 'Obesity_Type_III':6}\n",
    "obesidad['Gender'] = obesidad['Gender'].map(dGender)\n",
    "\n",
    "obesidad['family_history_with_overweight'] = obesidad['family_history_with_overweight'].map(dYESandNO)\n",
    "obesidad['FAVC'] = obesidad['FAVC'].map(dYESandNO)\n",
    "obesidad['SMOKE'] = obesidad['SMOKE'].map(dYESandNO)\n",
    "obesidad['SCC'] = obesidad['SCC'].map(dYESandNO)\n",
    "obesidad['CAEC'] = obesidad['CAEC'].map(dFrequency)\n",
    "obesidad['CALC'] = obesidad['CALC'].map(dFrequency)\n",
    "obesidad['MTRANS'] = obesidad['MTRANS'].map(dMT)\n",
    "obesidad['NObeyesdad'] = obesidad['NObeyesdad'].map(dLABELS)\n",
    "\n",
    "obesidad.head()"
   ]
  },
  {
   "cell_type": "markdown",
   "id": "1d5a648e",
   "metadata": {},
   "source": [
    "Separación de las variables predictoras y las variables a predecir"
   ]
  },
  {
   "cell_type": "code",
   "execution_count": 24,
   "id": "879f21d3",
   "metadata": {},
   "outputs": [
    {
     "name": "stdout",
     "output_type": "stream",
     "text": [
      "0       1\n",
      "1       1\n",
      "2       1\n",
      "3       2\n",
      "4       3\n",
      "       ..\n",
      "2106    6\n",
      "2107    6\n",
      "2108    6\n",
      "2109    6\n",
      "2110    6\n",
      "Name: NObeyesdad, Length: 2111, dtype: int64\n",
      "      Gender        Age    Height      Weight  family_history_with_overweight  \\\n",
      "0          1  21.000000  1.620000   64.000000                               1   \n",
      "1          1  21.000000  1.520000   56.000000                               1   \n",
      "2          0  23.000000  1.800000   77.000000                               1   \n",
      "3          0  27.000000  1.800000   87.000000                               0   \n",
      "4          0  22.000000  1.780000   89.800000                               0   \n",
      "...      ...        ...       ...         ...                             ...   \n",
      "2106       1  20.976842  1.710730  131.408528                               1   \n",
      "2107       1  21.982942  1.748584  133.742943                               1   \n",
      "2108       1  22.524036  1.752206  133.689352                               1   \n",
      "2109       1  24.361936  1.739450  133.346641                               1   \n",
      "2110       1  23.664709  1.738836  133.472641                               1   \n",
      "\n",
      "      FAVC  FCVC  NCP  CAEC  SMOKE      CH2O  SCC       FAF       TUE  CALC  \\\n",
      "0        0   2.0  3.0     1      0  2.000000    0  0.000000  1.000000     0   \n",
      "1        0   3.0  3.0     1      1  3.000000    1  3.000000  0.000000     1   \n",
      "2        0   2.0  3.0     1      0  2.000000    0  2.000000  1.000000     2   \n",
      "3        0   3.0  3.0     1      0  2.000000    0  2.000000  0.000000     2   \n",
      "4        0   2.0  1.0     1      0  2.000000    0  0.000000  0.000000     1   \n",
      "...    ...   ...  ...   ...    ...       ...  ...       ...       ...   ...   \n",
      "2106     1   3.0  3.0     1      0  1.728139    0  1.676269  0.906247     1   \n",
      "2107     1   3.0  3.0     1      0  2.005130    0  1.341390  0.599270     1   \n",
      "2108     1   3.0  3.0     1      0  2.054193    0  1.414209  0.646288     1   \n",
      "2109     1   3.0  3.0     1      0  2.852339    0  1.139107  0.586035     1   \n",
      "2110     1   3.0  3.0     1      0  2.863513    0  1.026452  0.714137     1   \n",
      "\n",
      "      MTRANS  NObeyesdad  \n",
      "0          0           1  \n",
      "1          0           1  \n",
      "2          0           1  \n",
      "3          1           2  \n",
      "4          0           3  \n",
      "...      ...         ...  \n",
      "2106       0           6  \n",
      "2107       0           6  \n",
      "2108       0           6  \n",
      "2109       0           6  \n",
      "2110       0           6  \n",
      "\n",
      "[2111 rows x 17 columns]\n"
     ]
    }
   ],
   "source": [
    "X = obesidad.iloc[:, 0:16]\n",
    "y=obesidad.NObeyesdad\n",
    "print(y)\n",
    "print(obesidad)"
   ]
  },
  {
   "cell_type": "code",
   "execution_count": 25,
   "id": "cf0fd0c6",
   "metadata": {},
   "outputs": [
    {
     "data": {
      "text/plain": [
       "Gender                            0\n",
       "Age                               0\n",
       "Height                            0\n",
       "Weight                            0\n",
       "family_history_with_overweight    0\n",
       "FAVC                              0\n",
       "FCVC                              0\n",
       "NCP                               0\n",
       "CAEC                              0\n",
       "SMOKE                             0\n",
       "CH2O                              0\n",
       "SCC                               0\n",
       "FAF                               0\n",
       "TUE                               0\n",
       "CALC                              0\n",
       "MTRANS                            0\n",
       "dtype: int64"
      ]
     },
     "execution_count": 25,
     "metadata": {},
     "output_type": "execute_result"
    }
   ],
   "source": [
    "X.isnull().sum()\n"
   ]
  },
  {
   "cell_type": "markdown",
   "id": "36f3121d",
   "metadata": {},
   "source": [
    "Conjuntos de prueba y de entrenamiento"
   ]
  },
  {
   "cell_type": "code",
   "execution_count": 26,
   "id": "05b8f0db",
   "metadata": {},
   "outputs": [],
   "source": [
    "ytarget = obesidad['NObeyesdad']\n",
    "xdata = obesidad.drop(['NObeyesdad'], axis=1)\n",
    "\n",
    "Xtrain,Xtest,Ytrain,Ytest = train_test_split(X,y,test_size=0.3,random_state=420)\n"
   ]
  },
  {
   "cell_type": "markdown",
   "id": "e19cc203",
   "metadata": {},
   "source": [
    "DECISION TREE"
   ]
  },
  {
   "cell_type": "code",
   "execution_count": 27,
   "id": "c11e7d17",
   "metadata": {},
   "outputs": [
    {
     "name": "stdout",
     "output_type": "stream",
     "text": [
      "Accuracy de DecisionTreeClassifier sobre el conjunto de prueba es: 0.94\n",
      "[[ 81   1   0   0   0   0   0]\n",
      " [  3  74   3   1   0   0   0]\n",
      " [  0   4  81   3   0   0   0]\n",
      " [  0   0   6  78   5   0   0]\n",
      " [  0   0   0   5 107   3   0]\n",
      " [  0   0   0   1   3  93   0]\n",
      " [  0   0   0   0   0   0  82]]\n",
      "              precision    recall  f1-score   support\n",
      "\n",
      "           0       0.96      0.99      0.98        82\n",
      "           1       0.94      0.91      0.92        81\n",
      "           2       0.90      0.92      0.91        88\n",
      "           3       0.89      0.88      0.88        89\n",
      "           4       0.93      0.93      0.93       115\n",
      "           5       0.97      0.96      0.96        97\n",
      "           6       1.00      1.00      1.00        82\n",
      "\n",
      "    accuracy                           0.94       634\n",
      "   macro avg       0.94      0.94      0.94       634\n",
      "weighted avg       0.94      0.94      0.94       634\n",
      "\n",
      "Index(['Gender', 'Age', 'Height', 'Weight', 'family_history_with_overweight',\n",
      "       'FAVC', 'FCVC', 'NCP', 'CAEC', 'SMOKE', 'CH2O', 'SCC', 'FAF', 'TUE',\n",
      "       'CALC', 'MTRANS'],\n",
      "      dtype='object')\n"
     ]
    }
   ],
   "source": [
    "DTClassifier = tree.DecisionTreeClassifier(criterion='entropy', splitter='best', max_depth=20)\n",
    "DTClassifier = DTClassifier.fit(Xtrain,Ytrain)\n",
    "\n",
    "#Evaluación en el conjunto de prueba\n",
    "yPred = DTClassifier.predict(Xtest)\n",
    "\n",
    "print('Accuracy de DecisionTreeClassifier sobre el conjunto de prueba es: {:.2f}'.format(DTClassifier.score(Xtest, Ytest))) \n",
    "cmatrix = confusion_matrix(Ytest, yPred)\n",
    "print(cmatrix)\n",
    "\n",
    "print(classification_report(Ytest, yPred))\n",
    "print(xdata.columns)"
   ]
  },
  {
   "cell_type": "markdown",
   "id": "db68e1cc",
   "metadata": {},
   "source": [
    "RANDOM FOREST"
   ]
  },
  {
   "cell_type": "code",
   "execution_count": 28,
   "id": "c79b349d",
   "metadata": {},
   "outputs": [
    {
     "name": "stdout",
     "output_type": "stream",
     "text": [
      "Accuracy de RandomForestClassifier sobre el conjunto de prueba es: 0.94\n",
      "[[ 77   5   0   0   0   0   0]\n",
      " [  2  76   3   0   0   0   0]\n",
      " [  0   7  79   2   0   0   0]\n",
      " [  0   5   6  78   0   0   0]\n",
      " [  0   3   0   5 107   0   0]\n",
      " [  0   1   0   0   1  95   0]\n",
      " [  0   0   0   0   0   0  82]]\n",
      "              precision    recall  f1-score   support\n",
      "\n",
      "           0       0.97      0.94      0.96        82\n",
      "           1       0.78      0.94      0.85        81\n",
      "           2       0.90      0.90      0.90        88\n",
      "           3       0.92      0.88      0.90        89\n",
      "           4       0.99      0.93      0.96       115\n",
      "           5       1.00      0.98      0.99        97\n",
      "           6       1.00      1.00      1.00        82\n",
      "\n",
      "    accuracy                           0.94       634\n",
      "   macro avg       0.94      0.94      0.94       634\n",
      "weighted avg       0.94      0.94      0.94       634\n",
      "\n",
      "Index(['Gender', 'Age', 'Height', 'Weight', 'family_history_with_overweight',\n",
      "       'FAVC', 'FCVC', 'NCP', 'CAEC', 'SMOKE', 'CH2O', 'SCC', 'FAF', 'TUE',\n",
      "       'CALC', 'MTRANS'],\n",
      "      dtype='object')\n"
     ]
    }
   ],
   "source": [
    "RFClassifier = RandomForestClassifier(n_estimators=50, max_depth=20)\n",
    "RFClassifier.fit(Xtrain, Ytrain)\n",
    "yPred = RFClassifier.predict(Xtest)\n",
    "print('Accuracy de RandomForestClassifier sobre el conjunto de prueba es: {:.2f}'.format(RFClassifier.score(Xtest, Ytest))) \n",
    "cmatrix = confusion_matrix(Ytest, yPred)\n",
    "print(cmatrix)\n",
    "\n",
    "print(classification_report(Ytest, yPred))\n",
    "print(xdata.columns)"
   ]
  },
  {
   "cell_type": "markdown",
   "id": "e37a0bd6",
   "metadata": {},
   "source": [
    "Redes Neuronales"
   ]
  },
  {
   "cell_type": "markdown",
   "id": "a6b3932d",
   "metadata": {},
   "source": [
    "Perceptron Multicapas"
   ]
  },
  {
   "cell_type": "code",
   "execution_count": 30,
   "id": "02b6adfe",
   "metadata": {},
   "outputs": [
    {
     "ename": "ModuleNotFoundError",
     "evalue": "No module named 'tensorflow'",
     "output_type": "error",
     "traceback": [
      "\u001b[1;31m---------------------------------------------------------------------------\u001b[0m",
      "\u001b[1;31mModuleNotFoundError\u001b[0m                       Traceback (most recent call last)",
      "\u001b[1;32m~\\AppData\\Local\\Temp/ipykernel_19100/3549247055.py\u001b[0m in \u001b[0;36m<module>\u001b[1;34m\u001b[0m\n\u001b[1;32m----> 1\u001b[1;33m \u001b[1;32mimport\u001b[0m \u001b[0mtensorflow\u001b[0m \u001b[1;32mas\u001b[0m \u001b[0mtf\u001b[0m\u001b[1;33m\u001b[0m\u001b[1;33m\u001b[0m\u001b[0m\n\u001b[0m\u001b[0;32m      2\u001b[0m \u001b[1;32mfrom\u001b[0m \u001b[0mtensorflow\u001b[0m \u001b[1;32mimport\u001b[0m \u001b[0mkeras\u001b[0m\u001b[1;33m\u001b[0m\u001b[1;33m\u001b[0m\u001b[0m\n\u001b[0;32m      3\u001b[0m \u001b[1;32mfrom\u001b[0m \u001b[0mkeras\u001b[0m \u001b[1;32mimport\u001b[0m \u001b[0moptimizers\u001b[0m\u001b[1;33m\u001b[0m\u001b[1;33m\u001b[0m\u001b[0m\n",
      "\u001b[1;31mModuleNotFoundError\u001b[0m: No module named 'tensorflow'"
     ]
    }
   ],
   "source": [
    "import tensorflow as tf\n",
    "from tensorflow import keras\n",
    "from keras import optimizers"
   ]
  },
  {
   "cell_type": "code",
   "execution_count": null,
   "id": "ff676b49",
   "metadata": {},
   "outputs": [],
   "source": [
    "warnings.filterwarnings(\"ignore\", category=ConvergenceWarning, module=\"sklearn\")\n",
    "model = MLPClassifier(hidden_layer_sizes= (17,), alpha=0.01, max_iter= 1000)\n",
    "model.fit(Xtrain,Ytrain)"
   ]
  },
  {
   "cell_type": "code",
   "execution_count": null,
   "id": "12b18bca",
   "metadata": {},
   "outputs": [],
   "source": [
    "prediccion = model.predict(Xtest)\n",
    "print(accuracy_score(Ytest,prediccion))\n",
    "print(\"Confusion matrix:\\n%s\" % metrics.confusion_matrix(Ytest, prediccion))"
   ]
  },
  {
   "cell_type": "markdown",
   "id": "e4105206",
   "metadata": {},
   "source": [
    "Keras"
   ]
  },
  {
   "cell_type": "code",
   "execution_count": null,
   "id": "8ac1b9da",
   "metadata": {},
   "outputs": [],
   "source": [
    "XtrainK, XvalidK, YtrainK, YvalidK = train_test_split(X, y, random_state=42)\n",
    "print(\"Los datos de entrenamiento contienen %d registros \" % (len(XtrainK)))\n",
    "print(\"Los datos de prueba contienen %d registros \" % (len(XvalidK)))"
   ]
  },
  {
   "cell_type": "code",
   "execution_count": null,
   "id": "a27b3e08",
   "metadata": {},
   "outputs": [],
   "source": [
    "model = keras.models.Sequential([\n",
    "    keras.layers.Dense(80, activation=\"relu\", input_shape = Xtrain.shape[1:16]),\n",
    "    keras.layers.Dense(80, activation=\"relu\"),\n",
    "    keras.layers.Dense(1)\n",
    "])\n",
    "model.compile(loss=\"categorical_crossentropy\", optimizer=optimizers.Adamax(0.01), metrics=['accuracy'])\n",
    "history = model.fit(XtrainK, YtrainK, epochs=100, validation_data=(XvalidK, YvalidK))\n",
    "\n",
    "accu_test = model.evaluate(Xtest, Ytest)\n",
    "print('accuracy con datos de prueba is {}'.format(accu_test))\n",
    "#print(accuracy_score(Ytest,history))\n"
   ]
  },
  {
   "cell_type": "code",
   "execution_count": null,
   "id": "ba4e964d",
   "metadata": {},
   "outputs": [],
   "source": []
  }
 ],
 "metadata": {
  "interpreter": {
   "hash": "d34be4b40dfbdf422232009f451430af8896468707e6b361646f6bb06e011306"
  },
  "kernelspec": {
   "display_name": "Python 3 (ipykernel)",
   "language": "python",
   "name": "python3"
  },
  "language_info": {
   "codemirror_mode": {
    "name": "ipython",
    "version": 3
   },
   "file_extension": ".py",
   "mimetype": "text/x-python",
   "name": "python",
   "nbconvert_exporter": "python",
   "pygments_lexer": "ipython3",
   "version": "3.9.7"
  }
 },
 "nbformat": 4,
 "nbformat_minor": 5
}
